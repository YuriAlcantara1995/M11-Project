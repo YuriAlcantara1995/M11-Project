{
 "cells": [
  {
   "cell_type": "code",
   "execution_count": 1,
   "metadata": {},
   "outputs": [],
   "source": [
    "import math\n",
    "import torch\n",
    "from torch import nn\n",
    "from torch.nn import init\n",
    "from torch.nn.modules import loss\n",
    "import torch.optim as optim\n",
    "from torchvision import datasets, transforms"
   ]
  },
  {
   "cell_type": "code",
   "execution_count": 2,
   "metadata": {},
   "outputs": [],
   "source": [
    "train_dataset = datasets.ImageFolder('Dataset/train', transform = transforms.ToTensor())\n",
    "test_dataset = datasets.ImageFolder('Dataset/test', transform = transforms.ToTensor())"
   ]
  },
  {
   "cell_type": "code",
   "execution_count": 3,
   "metadata": {},
   "outputs": [
    {
     "data": {
      "text/plain": [
       "Dataset ImageFolder\n",
       "    Number of datapoints: 501\n",
       "    Root location: Dataset/train\n",
       "    StandardTransform\n",
       "Transform: ToTensor()"
      ]
     },
     "execution_count": 3,
     "metadata": {},
     "output_type": "execute_result"
    }
   ],
   "source": [
    "train_dataset"
   ]
  },
  {
   "cell_type": "code",
   "execution_count": 4,
   "metadata": {},
   "outputs": [
    {
     "data": {
      "text/plain": [
       "Dataset ImageFolder\n",
       "    Number of datapoints: 125\n",
       "    Root location: Dataset/test\n",
       "    StandardTransform\n",
       "Transform: ToTensor()"
      ]
     },
     "execution_count": 4,
     "metadata": {},
     "output_type": "execute_result"
    }
   ],
   "source": [
    "test_dataset"
   ]
  },
  {
   "cell_type": "code",
   "execution_count": 5,
   "metadata": {},
   "outputs": [],
   "source": [
    "train_loader = torch.utils.data.DataLoader(train_dataset, batch_size=32, shuffle=True)\n",
    "test_loader = torch.utils.data.DataLoader(test_dataset, batch_size=32, shuffle=False)"
   ]
  },
  {
   "cell_type": "code",
   "execution_count": 6,
   "metadata": {},
   "outputs": [
    {
     "name": "stdout",
     "output_type": "stream",
     "text": [
      "Defaulting to user installation because normal site-packages is not writeable\n",
      "Requirement already satisfied: matplotlib in /home/yuri/.local/lib/python3.8/site-packages (3.5.2)\n",
      "Requirement already satisfied: packaging>=20.0 in /home/yuri/.local/lib/python3.8/site-packages (from matplotlib) (21.3)\n",
      "Requirement already satisfied: fonttools>=4.22.0 in /home/yuri/.local/lib/python3.8/site-packages (from matplotlib) (4.33.3)\n",
      "Requirement already satisfied: pillow>=6.2.0 in /usr/lib/python3/dist-packages (from matplotlib) (7.0.0)\n",
      "Requirement already satisfied: numpy>=1.17 in /home/yuri/.local/lib/python3.8/site-packages (from matplotlib) (1.22.4)\n",
      "Requirement already satisfied: cycler>=0.10 in /home/yuri/.local/lib/python3.8/site-packages (from matplotlib) (0.11.0)\n",
      "Requirement already satisfied: pyparsing>=2.2.1 in /home/yuri/.local/lib/python3.8/site-packages (from matplotlib) (3.0.9)\n",
      "Requirement already satisfied: kiwisolver>=1.0.1 in /home/yuri/.local/lib/python3.8/site-packages (from matplotlib) (1.4.2)\n",
      "Requirement already satisfied: python-dateutil>=2.7 in /usr/lib/python3/dist-packages (from matplotlib) (2.7.3)\n",
      "\u001b[33mWARNING: There was an error checking the latest version of pip.\u001b[0m\u001b[33m\n",
      "\u001b[0m"
     ]
    }
   ],
   "source": [
    "!pip install matplotlib"
   ]
  },
  {
   "cell_type": "code",
   "execution_count": 7,
   "metadata": {},
   "outputs": [],
   "source": [
    "import matplotlib\n",
    "matplotlib.use('Agg')\n",
    "import matplotlib.pyplot as plt\n",
    "toPIL = transforms.ToPILImage()"
   ]
  },
  {
   "cell_type": "code",
   "execution_count": 8,
   "metadata": {},
   "outputs": [],
   "source": [
    "def example(i):\n",
    "    print(train_dataset[i][1])\n",
    "    return toPIL(train_dataset[i][0]).resize((256, 256))"
   ]
  },
  {
   "cell_type": "code",
   "execution_count": 9,
   "metadata": {},
   "outputs": [
    {
     "name": "stdout",
     "output_type": "stream",
     "text": [
      "0\n"
     ]
    },
    {
     "data": {
      "image/png": "[encoded data removed]",
      "text/plain": [
       "<PIL.Image.Image image mode=RGB size=256x256 at 0x7F24468FD8E0>"
      ]
     },
     "execution_count": 9,
     "metadata": {},
     "output_type": "execute_result"
    }
   ],
   "source": [
    "example(0)"
   ]
  },
  {
   "cell_type": "code",
   "execution_count": 10,
   "metadata": {},
   "outputs": [
    {
     "data": {
      "text/plain": [
       "tensor([0, 0, 1, 1, 0, 0, 0, 2, 0, 1, 0, 1, 2, 1, 0, 1, 0, 2, 1, 1, 1, 1, 2, 2,\n",
       "        1, 0, 1, 0, 0, 1, 1, 1])"
      ]
     },
     "execution_count": 10,
     "metadata": {},
     "output_type": "execute_result"
    }
   ],
   "source": [
    "train_loader.__iter__().__next__()[1]"
   ]
  },
  {
   "cell_type": "code",
   "execution_count": 11,
   "metadata": {},
   "outputs": [
    {
     "data": {
      "text/plain": [
       "torch.Size([32, 3, 254, 254])"
      ]
     },
     "execution_count": 11,
     "metadata": {},
     "output_type": "execute_result"
    }
   ],
   "source": [
    "train_loader.__iter__().__next__()[0].shape\n"
   ]
  },
  {
   "cell_type": "code",
   "execution_count": 12,
   "metadata": {},
   "outputs": [],
   "source": [
    "def train(model, train_loader, optimizer, loss_function, epoch):\n",
    "    model.train()\n",
    "    for batch_idx, (data, target) in enumerate(train_loader):\n",
    "        optimizer.zero_grad()\n",
    "        output = model(data)\n",
    "        loss = loss_function(output, target)\n",
    "        loss.backward()\n",
    "        optimizer.step()\n",
    "        if batch_idx % 5 == 0:\n",
    "            print('Train Epoch: {} [{}/{} ({:.0f}%)]\\tLoss: {:.6f}'.format(\n",
    "                epoch, batch_idx * len(data), len(train_loader.dataset),\n",
    "                100. * batch_idx / len(train_loader), loss.item()))"
   ]
  },
  {
   "cell_type": "code",
   "execution_count": 13,
   "metadata": {},
   "outputs": [],
   "source": [
    "def test(model, test_loader, loss_function):\n",
    "    model.eval()\n",
    "    test_loss = 0\n",
    "    correct = 0\n",
    "    with torch.no_grad():\n",
    "        for data, target in test_loader:\n",
    "            output = model(data)\n",
    "            test_loss += loss_function(output, target).sum().item()\n",
    "            pred = output.argmax(dim=1, keepdim=True)\n",
    "            correct += pred.eq(target.view_as(pred)).sum().item()\n",
    "\n",
    "    test_loss /= len(test_loader.dataset)\n",
    "\n",
    "    print('\\nTest set: Average loss: {:.4f}, Accuracy: {}/{} ({:.0f}%)\\n'.format(\n",
    "        test_loss, correct, len(test_loader.dataset),\n",
    "        100. * correct / len(test_loader.dataset)))\n",
    "    \n",
    "    return 100. * correct / len(test_loader.dataset)"
   ]
  },
  {
   "cell_type": "code",
   "execution_count": 14,
   "metadata": {},
   "outputs": [
    {
     "name": "stdout",
     "output_type": "stream",
     "text": [
      "Train Epoch: 0 [0/501 (0%)]\tLoss: 1.290470\n",
      "Train Epoch: 0 [160/501 (31%)]\tLoss: 0.879520\n",
      "Train Epoch: 0 [320/501 (62%)]\tLoss: 0.737403\n",
      "Train Epoch: 0 [315/501 (94%)]\tLoss: 0.412995\n",
      "\n",
      "Test set: Average loss: 0.0256, Accuracy: 81/125 (65%)\n",
      "\n",
      "Train Epoch: 1 [0/501 (0%)]\tLoss: 0.510599\n",
      "Train Epoch: 1 [160/501 (31%)]\tLoss: 0.319032\n",
      "Train Epoch: 1 [320/501 (62%)]\tLoss: 0.422188\n",
      "Train Epoch: 1 [315/501 (94%)]\tLoss: 0.463822\n",
      "\n",
      "Test set: Average loss: 0.0189, Accuracy: 104/125 (83%)\n",
      "\n",
      "Train Epoch: 2 [0/501 (0%)]\tLoss: 0.394420\n",
      "Train Epoch: 2 [160/501 (31%)]\tLoss: 0.368418\n",
      "Train Epoch: 2 [320/501 (62%)]\tLoss: 0.353466\n",
      "Train Epoch: 2 [315/501 (94%)]\tLoss: 0.367363\n",
      "\n",
      "Test set: Average loss: 0.0173, Accuracy: 99/125 (79%)\n",
      "\n",
      "Train Epoch: 3 [0/501 (0%)]\tLoss: 0.283121\n",
      "Train Epoch: 3 [160/501 (31%)]\tLoss: 0.268302\n",
      "Train Epoch: 3 [320/501 (62%)]\tLoss: 0.326449\n",
      "Train Epoch: 3 [315/501 (94%)]\tLoss: 0.274672\n",
      "\n",
      "Test set: Average loss: 0.0152, Accuracy: 106/125 (85%)\n",
      "\n",
      "Train Epoch: 4 [0/501 (0%)]\tLoss: 0.285316\n",
      "Train Epoch: 4 [160/501 (31%)]\tLoss: 0.299107\n",
      "Train Epoch: 4 [320/501 (62%)]\tLoss: 0.335810\n",
      "Train Epoch: 4 [315/501 (94%)]\tLoss: 0.316298\n",
      "\n",
      "Test set: Average loss: 0.0151, Accuracy: 107/125 (86%)\n",
      "\n",
      "Train Epoch: 5 [0/501 (0%)]\tLoss: 0.275705\n",
      "Train Epoch: 5 [160/501 (31%)]\tLoss: 0.285203\n",
      "Train Epoch: 5 [320/501 (62%)]\tLoss: 0.382710\n",
      "Train Epoch: 5 [315/501 (94%)]\tLoss: 0.290994\n",
      "\n",
      "Test set: Average loss: 0.0140, Accuracy: 107/125 (86%)\n",
      "\n",
      "Train Epoch: 6 [0/501 (0%)]\tLoss: 0.249816\n",
      "Train Epoch: 6 [160/501 (31%)]\tLoss: 0.264670\n",
      "Train Epoch: 6 [320/501 (62%)]\tLoss: 0.257952\n",
      "Train Epoch: 6 [315/501 (94%)]\tLoss: 0.442286\n",
      "\n",
      "Test set: Average loss: 0.0206, Accuracy: 89/125 (71%)\n",
      "\n",
      "Train Epoch: 7 [0/501 (0%)]\tLoss: 0.374912\n",
      "Train Epoch: 7 [160/501 (31%)]\tLoss: 0.208754\n",
      "Train Epoch: 7 [320/501 (62%)]\tLoss: 0.272598\n",
      "Train Epoch: 7 [315/501 (94%)]\tLoss: 0.265284\n",
      "\n",
      "Test set: Average loss: 0.0216, Accuracy: 91/125 (73%)\n",
      "\n",
      "Train Epoch: 8 [0/501 (0%)]\tLoss: 0.258022\n",
      "Train Epoch: 8 [160/501 (31%)]\tLoss: 0.227456\n",
      "Train Epoch: 8 [320/501 (62%)]\tLoss: 0.219279\n",
      "Train Epoch: 8 [315/501 (94%)]\tLoss: 0.208236\n",
      "\n",
      "Test set: Average loss: 0.0115, Accuracy: 114/125 (91%)\n",
      "\n",
      "Train Epoch: 9 [0/501 (0%)]\tLoss: 0.213721\n",
      "Train Epoch: 9 [160/501 (31%)]\tLoss: 0.194604\n",
      "Train Epoch: 9 [320/501 (62%)]\tLoss: 0.203770\n",
      "Train Epoch: 9 [315/501 (94%)]\tLoss: 0.291482\n",
      "\n",
      "Test set: Average loss: 0.0126, Accuracy: 112/125 (90%)\n",
      "\n",
      "Train Epoch: 10 [0/501 (0%)]\tLoss: 0.235588\n",
      "Train Epoch: 10 [160/501 (31%)]\tLoss: 0.219538\n",
      "Train Epoch: 10 [320/501 (62%)]\tLoss: 0.180783\n",
      "Train Epoch: 10 [315/501 (94%)]\tLoss: 0.266513\n",
      "\n",
      "Test set: Average loss: 0.0117, Accuracy: 113/125 (90%)\n",
      "\n",
      "Train Epoch: 11 [0/501 (0%)]\tLoss: 0.183849\n",
      "Train Epoch: 11 [160/501 (31%)]\tLoss: 0.186090\n",
      "Train Epoch: 11 [320/501 (62%)]\tLoss: 0.297631\n",
      "Train Epoch: 11 [315/501 (94%)]\tLoss: 0.204877\n",
      "\n",
      "Test set: Average loss: 0.0122, Accuracy: 114/125 (91%)\n",
      "\n",
      "Train Epoch: 12 [0/501 (0%)]\tLoss: 0.180844\n",
      "Train Epoch: 12 [160/501 (31%)]\tLoss: 0.185486\n",
      "Train Epoch: 12 [320/501 (62%)]\tLoss: 0.185951\n",
      "Train Epoch: 12 [315/501 (94%)]\tLoss: 0.340130\n",
      "\n",
      "Test set: Average loss: 0.0158, Accuracy: 104/125 (83%)\n",
      "\n",
      "Train Epoch: 13 [0/501 (0%)]\tLoss: 0.204756\n",
      "Train Epoch: 13 [160/501 (31%)]\tLoss: 0.212945\n",
      "Train Epoch: 13 [320/501 (62%)]\tLoss: 0.182367\n",
      "Train Epoch: 13 [315/501 (94%)]\tLoss: 0.170287\n",
      "\n",
      "Test set: Average loss: 0.0116, Accuracy: 113/125 (90%)\n",
      "\n",
      "Train Epoch: 14 [0/501 (0%)]\tLoss: 0.154879\n",
      "Train Epoch: 14 [160/501 (31%)]\tLoss: 0.167119\n",
      "Train Epoch: 14 [320/501 (62%)]\tLoss: 0.166315\n",
      "Train Epoch: 14 [315/501 (94%)]\tLoss: 0.234720\n",
      "\n",
      "Test set: Average loss: 0.0122, Accuracy: 114/125 (91%)\n",
      "\n",
      "Train Epoch: 15 [0/501 (0%)]\tLoss: 0.186533\n",
      "Train Epoch: 15 [160/501 (31%)]\tLoss: 0.188346\n",
      "Train Epoch: 15 [320/501 (62%)]\tLoss: 0.178564\n",
      "Train Epoch: 15 [315/501 (94%)]\tLoss: 0.183118\n",
      "\n",
      "Test set: Average loss: 0.0123, Accuracy: 105/125 (84%)\n",
      "\n",
      "Train Epoch: 16 [0/501 (0%)]\tLoss: 0.170695\n",
      "Train Epoch: 16 [160/501 (31%)]\tLoss: 0.149351\n",
      "Train Epoch: 16 [320/501 (62%)]\tLoss: 0.144418\n",
      "Train Epoch: 16 [315/501 (94%)]\tLoss: 0.283899\n",
      "\n",
      "Test set: Average loss: 0.0112, Accuracy: 113/125 (90%)\n",
      "\n",
      "Train Epoch: 17 [0/501 (0%)]\tLoss: 0.163168\n",
      "Train Epoch: 17 [160/501 (31%)]\tLoss: 0.261586\n",
      "Train Epoch: 17 [320/501 (62%)]\tLoss: 0.207406\n",
      "Train Epoch: 17 [315/501 (94%)]\tLoss: 0.231337\n",
      "\n",
      "Test set: Average loss: 0.0102, Accuracy: 116/125 (93%)\n",
      "\n",
      "Train Epoch: 18 [0/501 (0%)]\tLoss: 0.168250\n",
      "Train Epoch: 18 [160/501 (31%)]\tLoss: 0.159973\n",
      "Train Epoch: 18 [320/501 (62%)]\tLoss: 0.162107\n",
      "Train Epoch: 18 [315/501 (94%)]\tLoss: 0.177942\n",
      "\n",
      "Test set: Average loss: 0.0119, Accuracy: 109/125 (87%)\n",
      "\n",
      "Train Epoch: 19 [0/501 (0%)]\tLoss: 0.170154\n",
      "Train Epoch: 19 [160/501 (31%)]\tLoss: 0.150638\n",
      "Train Epoch: 19 [320/501 (62%)]\tLoss: 0.139335\n",
      "Train Epoch: 19 [315/501 (94%)]\tLoss: 0.152048\n",
      "\n",
      "Test set: Average loss: 0.0103, Accuracy: 115/125 (92%)\n",
      "\n"
     ]
    }
   ],
   "source": [
    "model_batchnorm = nn.Sequential(nn.Flatten(),\n",
    "                      nn.Linear(193548, 512), \n",
    "                      nn.BatchNorm1d(512),\n",
    "                      nn.ReLU(),\n",
    "                      nn.Linear(512, 256), \n",
    "                      nn.BatchNorm1d(256),\n",
    "                      nn.ReLU(),\n",
    "                      nn.Linear(256, 64), \n",
    "                      nn.BatchNorm1d(64),\n",
    "                      nn.ReLU(),\n",
    "                      nn.Linear(64, 3),\n",
    "                      nn.BatchNorm1d(3))\n",
    "optimizer = optim.SGD(model_batchnorm.parameters(), lr=0.01)\n",
    "loss_function = loss.CrossEntropyLoss()\n",
    "\n",
    "for epoch in range(20):\n",
    "        train(model_batchnorm, train_loader, optimizer, loss_function, epoch)\n",
    "        test(model_batchnorm, test_loader, loss_function)"
   ]
  },
  {
   "cell_type": "code",
   "execution_count": 16,
   "metadata": {},
   "outputs": [
    {
     "name": "stdout",
     "output_type": "stream",
     "text": [
      "Train Epoch: 0 [0/501 (0%)]\tLoss: 1.442661\n",
      "Train Epoch: 0 [160/501 (31%)]\tLoss: 0.787907\n",
      "Train Epoch: 0 [320/501 (62%)]\tLoss: 0.795146\n",
      "Train Epoch: 0 [315/501 (94%)]\tLoss: 0.627036\n",
      "\n",
      "Test set: Average loss: 0.0256, Accuracy: 82/125 (66%)\n",
      "\n",
      "Train Epoch: 1 [0/501 (0%)]\tLoss: 0.629832\n",
      "Train Epoch: 1 [160/501 (31%)]\tLoss: 0.567743\n",
      "Train Epoch: 1 [320/501 (62%)]\tLoss: 0.651833\n",
      "Train Epoch: 1 [315/501 (94%)]\tLoss: 0.777818\n",
      "\n",
      "Test set: Average loss: 0.0217, Accuracy: 79/125 (63%)\n",
      "\n",
      "Train Epoch: 2 [0/501 (0%)]\tLoss: 0.656914\n",
      "Train Epoch: 2 [160/501 (31%)]\tLoss: 0.747171\n",
      "Train Epoch: 2 [320/501 (62%)]\tLoss: 0.536830\n",
      "Train Epoch: 2 [315/501 (94%)]\tLoss: 0.517003\n",
      "\n",
      "Test set: Average loss: 0.0166, Accuracy: 107/125 (86%)\n",
      "\n",
      "Train Epoch: 3 [0/501 (0%)]\tLoss: 0.566710\n",
      "Train Epoch: 3 [160/501 (31%)]\tLoss: 0.514399\n",
      "Train Epoch: 3 [320/501 (62%)]\tLoss: 0.511275\n",
      "Train Epoch: 3 [315/501 (94%)]\tLoss: 0.676070\n",
      "\n",
      "Test set: Average loss: 0.0168, Accuracy: 108/125 (86%)\n",
      "\n",
      "Train Epoch: 4 [0/501 (0%)]\tLoss: 0.404628\n",
      "Train Epoch: 4 [160/501 (31%)]\tLoss: 0.473457\n",
      "Train Epoch: 4 [320/501 (62%)]\tLoss: 0.545868\n",
      "Train Epoch: 4 [315/501 (94%)]\tLoss: 0.538490\n",
      "\n",
      "Test set: Average loss: 0.0158, Accuracy: 111/125 (89%)\n",
      "\n",
      "Train Epoch: 5 [0/501 (0%)]\tLoss: 0.439079\n",
      "Train Epoch: 5 [160/501 (31%)]\tLoss: 0.486489\n",
      "Train Epoch: 5 [320/501 (62%)]\tLoss: 0.648188\n",
      "Train Epoch: 5 [315/501 (94%)]\tLoss: 0.442608\n",
      "\n",
      "Test set: Average loss: 0.0139, Accuracy: 114/125 (91%)\n",
      "\n",
      "Train Epoch: 6 [0/501 (0%)]\tLoss: 0.511326\n",
      "Train Epoch: 6 [160/501 (31%)]\tLoss: 0.348489\n",
      "Train Epoch: 6 [320/501 (62%)]\tLoss: 0.481642\n",
      "Train Epoch: 6 [315/501 (94%)]\tLoss: 0.335825\n",
      "\n",
      "Test set: Average loss: 0.0137, Accuracy: 115/125 (92%)\n",
      "\n",
      "Train Epoch: 7 [0/501 (0%)]\tLoss: 0.537374\n",
      "Train Epoch: 7 [160/501 (31%)]\tLoss: 0.370902\n",
      "Train Epoch: 7 [320/501 (62%)]\tLoss: 0.397084\n",
      "Train Epoch: 7 [315/501 (94%)]\tLoss: 0.519042\n",
      "\n",
      "Test set: Average loss: 0.0134, Accuracy: 113/125 (90%)\n",
      "\n",
      "Train Epoch: 8 [0/501 (0%)]\tLoss: 0.477875\n",
      "Train Epoch: 8 [160/501 (31%)]\tLoss: 0.490886\n",
      "Train Epoch: 8 [320/501 (62%)]\tLoss: 0.481145\n",
      "Train Epoch: 8 [315/501 (94%)]\tLoss: 0.534952\n",
      "\n",
      "Test set: Average loss: 0.0148, Accuracy: 107/125 (86%)\n",
      "\n",
      "Train Epoch: 9 [0/501 (0%)]\tLoss: 0.325453\n",
      "Train Epoch: 9 [160/501 (31%)]\tLoss: 0.364487\n",
      "Train Epoch: 9 [320/501 (62%)]\tLoss: 0.393594\n",
      "Train Epoch: 9 [315/501 (94%)]\tLoss: 0.575647\n",
      "\n",
      "Test set: Average loss: 0.0131, Accuracy: 112/125 (90%)\n",
      "\n",
      "Train Epoch: 10 [0/501 (0%)]\tLoss: 0.421756\n",
      "Train Epoch: 10 [160/501 (31%)]\tLoss: 0.364210\n",
      "Train Epoch: 10 [320/501 (62%)]\tLoss: 0.519301\n",
      "Train Epoch: 10 [315/501 (94%)]\tLoss: 0.336578\n",
      "\n",
      "Test set: Average loss: 0.0129, Accuracy: 115/125 (92%)\n",
      "\n",
      "Train Epoch: 11 [0/501 (0%)]\tLoss: 0.375607\n",
      "Train Epoch: 11 [160/501 (31%)]\tLoss: 0.541059\n",
      "Train Epoch: 11 [320/501 (62%)]\tLoss: 0.421686\n",
      "Train Epoch: 11 [315/501 (94%)]\tLoss: 0.327436\n",
      "\n",
      "Test set: Average loss: 0.0141, Accuracy: 106/125 (85%)\n",
      "\n",
      "Train Epoch: 12 [0/501 (0%)]\tLoss: 0.343084\n",
      "Train Epoch: 12 [160/501 (31%)]\tLoss: 0.449353\n",
      "Train Epoch: 12 [320/501 (62%)]\tLoss: 0.344862\n",
      "Train Epoch: 12 [315/501 (94%)]\tLoss: 0.379050\n",
      "\n",
      "Test set: Average loss: 0.0123, Accuracy: 114/125 (91%)\n",
      "\n",
      "Train Epoch: 13 [0/501 (0%)]\tLoss: 0.339571\n",
      "Train Epoch: 13 [160/501 (31%)]\tLoss: 0.275194\n",
      "Train Epoch: 13 [320/501 (62%)]\tLoss: 0.372910\n",
      "Train Epoch: 13 [315/501 (94%)]\tLoss: 0.247809\n",
      "\n",
      "Test set: Average loss: 0.0123, Accuracy: 115/125 (92%)\n",
      "\n",
      "Train Epoch: 14 [0/501 (0%)]\tLoss: 0.320508\n",
      "Train Epoch: 14 [160/501 (31%)]\tLoss: 0.290568\n",
      "Train Epoch: 14 [320/501 (62%)]\tLoss: 0.331863\n",
      "Train Epoch: 14 [315/501 (94%)]\tLoss: 0.463078\n",
      "\n",
      "Test set: Average loss: 0.0119, Accuracy: 117/125 (94%)\n",
      "\n",
      "Train Epoch: 15 [0/501 (0%)]\tLoss: 0.349172\n",
      "Train Epoch: 15 [160/501 (31%)]\tLoss: 0.370447\n",
      "Train Epoch: 15 [320/501 (62%)]\tLoss: 0.278702\n",
      "Train Epoch: 15 [315/501 (94%)]\tLoss: 0.546683\n",
      "\n",
      "Test set: Average loss: 0.0108, Accuracy: 115/125 (92%)\n",
      "\n",
      "Train Epoch: 16 [0/501 (0%)]\tLoss: 0.345637\n",
      "Train Epoch: 16 [160/501 (31%)]\tLoss: 0.339856\n",
      "Train Epoch: 16 [320/501 (62%)]\tLoss: 0.302894\n",
      "Train Epoch: 16 [315/501 (94%)]\tLoss: 0.391895\n",
      "\n",
      "Test set: Average loss: 0.0109, Accuracy: 114/125 (91%)\n",
      "\n",
      "Train Epoch: 17 [0/501 (0%)]\tLoss: 0.290608\n",
      "Train Epoch: 17 [160/501 (31%)]\tLoss: 0.433425\n",
      "Train Epoch: 17 [320/501 (62%)]\tLoss: 0.308295\n",
      "Train Epoch: 17 [315/501 (94%)]\tLoss: 0.209738\n",
      "\n",
      "Test set: Average loss: 0.0114, Accuracy: 115/125 (92%)\n",
      "\n",
      "Train Epoch: 18 [0/501 (0%)]\tLoss: 0.308881\n",
      "Train Epoch: 18 [160/501 (31%)]\tLoss: 0.271119\n",
      "Train Epoch: 18 [320/501 (62%)]\tLoss: 0.345664\n",
      "Train Epoch: 18 [315/501 (94%)]\tLoss: 0.278741\n",
      "\n",
      "Test set: Average loss: 0.0112, Accuracy: 114/125 (91%)\n",
      "\n",
      "Train Epoch: 19 [0/501 (0%)]\tLoss: 0.239305\n",
      "Train Epoch: 19 [160/501 (31%)]\tLoss: 0.273394\n",
      "Train Epoch: 19 [320/501 (62%)]\tLoss: 0.389277\n",
      "Train Epoch: 19 [315/501 (94%)]\tLoss: 0.276191\n",
      "\n",
      "Test set: Average loss: 0.0109, Accuracy: 113/125 (90%)\n",
      "\n"
     ]
    }
   ],
   "source": [
    "model_dropout = nn.Sequential(nn.Flatten(),\n",
    "                      nn.Linear(193548, 512), \n",
    "                      nn.BatchNorm1d(512),\n",
    "                      nn.ReLU(),\n",
    "                      nn.Dropout(0.4),\n",
    "                      nn.Linear(512, 256), \n",
    "                      nn.BatchNorm1d(256),\n",
    "                      nn.ReLU(),\n",
    "                      nn.Dropout(0.3),\n",
    "                      nn.Linear(256, 64), \n",
    "                      nn.BatchNorm1d(64),\n",
    "                      nn.ReLU(),\n",
    "                      nn.Dropout(0.2),\n",
    "                      nn.Linear(64, 3),\n",
    "                      nn.BatchNorm1d(3))\n",
    "optimizer = optim.SGD(model_dropout.parameters(), lr=0.01)\n",
    "loss_function = loss.CrossEntropyLoss()\n",
    "    \n",
    "\n",
    "for epoch in range(20):\n",
    "        train(model_dropout, train_loader, optimizer, loss_function, epoch)\n",
    "        test(model_dropout, test_loader, loss_function)"
   ]
  },
  {
   "cell_type": "code",
   "execution_count": null,
   "metadata": {},
   "outputs": [],
   "source": [
    "model_cnn = nn.Sequential(\n",
    "                      nn.Conv2d(3, 48, 7, bias=False),\n",
    "                      nn.BatchNorm2d(48), \n",
    "                      nn.Conv2d(48, 96, 7, bias=False),\n",
    "                      nn.BatchNorm2d(96), \n",
    "                      nn.Linear(242, 3, bias=False),\n",
    "                      nn.BatchNorm1d(3))\n",
    "optimizer = optim.Adam(model_cnn.parameters(), lr=0.001)\n",
    "loss_function = loss.CrossEntropyLoss()\n",
    "    \n",
    "\n",
    "for epoch in range(20):\n",
    "        train(model_cnn, train_loader, optimizer, loss_function, epoch)\n",
    "        test(model_cnn, test_loader, loss_function)"
   ]
  },
  {
   "cell_type": "code",
   "execution_count": null,
   "metadata": {},
   "outputs": [],
   "source": []
  }
 ],
 "metadata": {
  "kernelspec": {
   "display_name": "Python 3",
   "language": "python",
   "name": "python3"
  },
  "language_info": {
   "codemirror_mode": {
    "name": "ipython",
    "version": 3
   },
   "file_extension": ".py",
   "mimetype": "text/x-python",
   "name": "python",
   "nbconvert_exporter": "python",
   "pygments_lexer": "ipython3",
   "version": "3.8.10"
  }
 },
 "nbformat": 4,
 "nbformat_minor": 4
}
